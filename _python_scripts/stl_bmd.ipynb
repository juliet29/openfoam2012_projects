{
 "cells": [
  {
   "attachments": {},
   "cell_type": "markdown",
   "metadata": {},
   "source": [
    "# STL to block mesh dictionary python script \n",
    "### 12/26/22\n",
    "### update 1/4/23"
   ]
  },
  {
   "cell_type": "code",
   "execution_count": 1,
   "metadata": {},
   "outputs": [],
   "source": [
    "from __future__ import unicode_literals, print_function\n",
    "\n",
    "import math\n",
    "import numpy as np\n",
    "from ofblockmeshdicthelper import BlockMeshDict, Vertex, SimpleGrading\n"
   ]
  },
  {
   "cell_type": "code",
   "execution_count": null,
   "metadata": {},
   "outputs": [],
   "source": [
    "# ^ z\n",
    "# |  /y (to the outlet )\n",
    "# | /\n",
    "# |/_________> x    \n",
    "\n",
    "\n",
    "# ^ z\n",
    "# |\n",
    "# |\n",
    "# |__________________________> y"
   ]
  },
  {
   "cell_type": "code",
   "execution_count": 2,
   "metadata": {},
   "outputs": [],
   "source": [
    "# take in box parameters and build a mesh around them \n",
    "box_params = { #m\n",
    "    \"x\": 4.65, # x-z plane faces front of the wind tunnel, width \n",
    "    \"y\": 3.65, # depth of the box \n",
    "    \"z\": 3.66 # height 0 vertical \n",
    "}"
   ]
  },
  {
   "attachments": {},
   "cell_type": "markdown",
   "metadata": {},
   "source": [
    "## from block mesh dict "
   ]
  },
  {
   "attachments": {},
   "cell_type": "markdown",
   "metadata": {},
   "source": [
    "### wind tunnel "
   ]
  },
  {
   "cell_type": "code",
   "execution_count": 4,
   "metadata": {},
   "outputs": [
    {
     "data": {
      "text/plain": [
       "{'x': 26.61, 'y': 76.85000000000001, 'z': 14.64}"
      ]
     },
     "execution_count": 4,
     "metadata": {},
     "output_type": "execute_result"
    }
   ],
   "source": [
    "# ramponi + blocken 2012        \n",
    "# * H_D = H + d, \n",
    "# * W_D = W + 2d\n",
    "# * H, W = height and width of the building respectively \n",
    "# * d = 5H - 3H (start with 3H for early study) \n",
    "# * Upstream, downstream length => 5H and 15H \n",
    "\n",
    "H = box_params[\"z\"]\n",
    "d = 3 * H # 3H \n",
    "\n",
    "wt_params = {\n",
    "    \"x\": box_params[\"x\"] + 2*d,   # width / length\n",
    "    \"y\": box_params[\"y\"] + 5*H + 15*H, # depth \n",
    "    \"z\": box_params[\"z\"] + d, # height \n",
    "}\n",
    "wt_params\n"
   ]
  },
  {
   "cell_type": "code",
   "execution_count": 13,
   "metadata": {},
   "outputs": [],
   "source": [
    "# prepare ofblockmeshdicthelper.BlockMeshDict instance to\n",
    "# gather vertices, blocks, faces and boundaries.\n",
    "bmd = BlockMeshDict()\n",
    "\n",
    "# set metrics\n",
    "bmd.set_metric('m')\n"
   ]
  },
  {
   "cell_type": "code",
   "execution_count": 14,
   "metadata": {},
   "outputs": [
    {
     "name": "stdout",
     "output_type": "stream",
     "text": [
      "v0: (0, 0, 0)\n",
      "v1: (26.61, 0, 0)\n",
      "v2: (26.61, 76.85000000000001, 0)\n",
      "v3: (0, 76.85000000000001, 0)\n"
     ]
    }
   ],
   "source": [
    "# wind tunnel \n",
    "\n",
    "basevs = [\n",
    "    Vertex(0, 0, 0, 'v0'),\n",
    "    Vertex(wt_params[\"x\"], 0, 0, 'v1'),\n",
    "    Vertex(wt_params[\"x\"],  wt_params[\"y\"], 0, 'v2'),\n",
    "    Vertex(0, wt_params[\"y\"], 0, 'v3')]\n",
    "\n",
    "# for v in basevs:\n",
    "#     print(f\"{v.name}: {v.x, v.y, v.z}\")\n",
    "\n",
    "\n",
    "# raise up in the z direction \n",
    "for v in basevs:\n",
    "    bmd.add_vertex(v.x, v.y, wt_params[\"z\"], v.name+'+z')\n",
    "    bmd.add_vertex(v.x, v.y, 0, v.name+'-z')\n",
    "\n",
    "for v in basevs:\n",
    "    print(f\"{v.name}: {v.x, v.y, v.z}\")"
   ]
  },
  {
   "cell_type": "code",
   "execution_count": 32,
   "metadata": {},
   "outputs": [],
   "source": [
    "# print names and coordinates of a block mesh dict object \n",
    "def print_vertices(bmd):\n",
    "    for k,v in bmd.vertices.items():\n",
    "        print(f\"{k} : ({bmd.vertices[k].x}, {bmd.vertices[k].y}, {bmd.vertices[k].z})\")"
   ]
  },
  {
   "cell_type": "code",
   "execution_count": 10,
   "metadata": {},
   "outputs": [],
   "source": [
    "def vnamegen(x0y0, x1y0, x1y1, x0y1):\n",
    "    \"generate names from the hex block\"\n",
    "    return (x0y0+'-z', x1y0+'-z', x1y0+'+z', x0y0+'+z',\n",
    "            x0y1+'-z', x1y1+'-z', x1y1+'+z', x0y1+'+z')"
   ]
  },
  {
   "cell_type": "code",
   "execution_count": 11,
   "metadata": {},
   "outputs": [
    {
     "data": {
      "text/plain": [
       "('v0-z', 'v1-z', 'v1+z', 'v0+z', 'v3-z', 'v2-z', 'v2+z', 'v3+z')"
      ]
     },
     "execution_count": 11,
     "metadata": {},
     "output_type": "execute_result"
    }
   ],
   "source": [
    "vnamegen('v0', 'v1', 'v2', 'v3')"
   ]
  },
  {
   "cell_type": "code",
   "execution_count": 34,
   "metadata": {},
   "outputs": [],
   "source": [
    "b0 = bmd.add_hexblock(vnamegen('v0', 'v1', 'v2', 'v3'),\n",
    "                      (80, 50, 20),\n",
    "                      'b0',\n",
    "                      grading=SimpleGrading(1,\n",
    "                                            1,\n",
    "                                            1))"
   ]
  },
  {
   "cell_type": "code",
   "execution_count": 42,
   "metadata": {},
   "outputs": [
    {
     "name": "stdout",
     "output_type": "stream",
     "text": [
      "v0+z : (0, 0, 14.64)\n",
      "v0-z : (0, 0, 0)\n",
      "v1+z : (26.61, 0, 14.64)\n",
      "v1-z : (26.61, 0, 0)\n",
      "v2+z : (26.61, 76.85000000000001, 14.64)\n",
      "v2-z : (26.61, 76.85000000000001, 0)\n",
      "v3+z : (0, 76.85000000000001, 14.64)\n",
      "v3-z : (0, 76.85000000000001, 0)\n"
     ]
    }
   ],
   "source": []
  },
  {
   "cell_type": "code",
   "execution_count": null,
   "metadata": {},
   "outputs": [],
   "source": [
    "        # index is number or keyword to identify the face of Hex\n",
    "        #     0 = 'w' = 'xm' = '-100' = (0 4 7 3)\n",
    "        #     1 = 'e' = 'xp' = '100' = (1 2 5 6)\n",
    "        #     2 = 's' = 'ym' = '0-10' = (0 1 5 4)\n",
    "        #     3 = 'n' = 'yp' = '010' = (2 3 7 6)\n",
    "        #     4 = 'b' = 'zm' = '00-1' = (0 3 2 1)\n",
    "        #     5 = 't' = zp' = '001' = (4 5 6 7)\n",
    "        # name is given to Face instance. If omitt"
   ]
  },
  {
   "cell_type": "code",
   "execution_count": 48,
   "metadata": {},
   "outputs": [
    {
     "name": "stdout",
     "output_type": "stream",
     "text": [
      "v0+z : (0, 0, 14.64)\n",
      "v0-z : (0, 0, 0)\n",
      "v1+z : (26.61, 0, 14.64)\n",
      "v1-z : (26.61, 0, 0)\n",
      "v2+z : (26.61, 76.85000000000001, 14.64)\n",
      "v2-z : (26.61, 76.85000000000001, 0)\n",
      "v3+z : (0, 76.85000000000001, 14.64)\n",
      "v3-z : (0, 76.85000000000001, 0)\n"
     ]
    }
   ],
   "source": [
    "print_vertices(bmd)"
   ]
  },
  {
   "cell_type": "code",
   "execution_count": 47,
   "metadata": {},
   "outputs": [
    {
     "name": "stdout",
     "output_type": "stream",
     "text": [
      "('v0-z', 'v3-z', 'v3+z', 'v0+z')\n",
      "('v1-z', 'v1+z', 'v2+z', 'v2-z')\n",
      "('v0-z', 'v1-z', 'v2-z', 'v3-z')\n",
      "('v1+z', 'v0+z', 'v3+z', 'v2+z')\n",
      "('v0-z', 'v0+z', 'v1+z', 'v1-z')\n",
      "('v3-z', 'v2-z', 'v2+z', 'v3+z')\n"
     ]
    }
   ],
   "source": [
    "for i in range(6):\n",
    "    print(b0.face(i).vnames)"
   ]
  },
  {
   "cell_type": "code",
   "execution_count": 49,
   "metadata": {},
   "outputs": [],
   "source": [
    "boundaries = [\"symmetry\", \"symmetry\", \"wall\", \"patch\", \"patch\", \"patch\"]\n",
    "names = [\"side01\", \"side02\", \"bottom\", \"top\", \"inlet\", \"outlet\"]\n",
    "for i, boundary, name in zip(range(6), boundaries, names):\n",
    "    bmd.add_boundary(boundary, name, [b0.face(i)])"
   ]
  },
  {
   "cell_type": "code",
   "execution_count": 57,
   "metadata": {},
   "outputs": [
    {
     "name": "stdout",
     "output_type": "stream",
     "text": [
      "side01: ('v0-z', 'v3-z', 'v3+z', 'v0+z')\n",
      "side02: ('v1-z', 'v1+z', 'v2+z', 'v2-z')\n",
      "bottom: ('v0-z', 'v1-z', 'v2-z', 'v3-z')\n",
      "top: ('v1+z', 'v0+z', 'v3+z', 'v2+z')\n",
      "inlet: ('v0-z', 'v0+z', 'v1+z', 'v1-z')\n",
      "outlet: ('v3-z', 'v2-z', 'v2+z', 'v3+z')\n"
     ]
    }
   ],
   "source": [
    "for k,v in bmd.boundaries.items():\n",
    "    print(f\"{k}: {bmd.boundaries[k].faces[0].vnames}\")\n",
    "    "
   ]
  },
  {
   "attachments": {},
   "cell_type": "markdown",
   "metadata": {},
   "source": [
    "### internal block "
   ]
  },
  {
   "cell_type": "code",
   "execution_count": null,
   "metadata": {},
   "outputs": [],
   "source": [
    "# now want internal block\n",
    "# base vertices of wind tunnel \n",
    "boxvs = [\n",
    "    Vertex(box_size, 0, box_size, 'v4'),\n",
    "    Vertex(box_size + box_size, 0, box_size, 'v5'),\n",
    "    Vertex(box_size + box_size,  0, box_size + box_size, 'v6'),\n",
    "    Vertex(box_size, 0, box_size + box_size, 'v7')]"
   ]
  },
  {
   "cell_type": "code",
   "execution_count": null,
   "metadata": {},
   "outputs": [],
   "source": [
    "# raise up in the y direction \n",
    "for v in boxvs:\n",
    "    bmd.add_vertex(v.x, box_size, v.z, v.name+'+y')\n",
    "    bmd.add_vertex(v.x, 0, v.z, v.name+'-y')"
   ]
  },
  {
   "cell_type": "code",
   "execution_count": null,
   "metadata": {},
   "outputs": [],
   "source": [
    "b1 = bmd.add_hexblock(vnamegen('v4', 'v5', 'v6', 'v7'),\n",
    "                      (2, 5, 5),\n",
    "                      'b1',\n",
    "                      grading=SimpleGrading(1,\n",
    "                                            1,\n",
    "                                            1))\n",
    "[b1.face(i).name for i in range(6)]"
   ]
  },
  {
   "cell_type": "code",
   "execution_count": null,
   "metadata": {},
   "outputs": [],
   "source": [
    "bmd.add_boundary('wall', 'box', [b1.face(i) for i in range(6) ]) "
   ]
  },
  {
   "attachments": {},
   "cell_type": "markdown",
   "metadata": {},
   "source": [
    "# Finish "
   ]
  },
  {
   "cell_type": "code",
   "execution_count": null,
   "metadata": {},
   "outputs": [],
   "source": [
    "bmd.assign_vertexid()"
   ]
  },
  {
   "cell_type": "code",
   "execution_count": null,
   "metadata": {},
   "outputs": [],
   "source": [
    "print(bmd.format())"
   ]
  }
 ],
 "metadata": {
  "kernelspec": {
   "display_name": "cfdenv",
   "language": "python",
   "name": "python3"
  },
  "language_info": {
   "codemirror_mode": {
    "name": "ipython",
    "version": 3
   },
   "file_extension": ".py",
   "mimetype": "text/x-python",
   "name": "python",
   "nbconvert_exporter": "python",
   "pygments_lexer": "ipython3",
   "version": "3.10.8"
  },
  "orig_nbformat": 4,
  "vscode": {
   "interpreter": {
    "hash": "476e7c1493e386aaa2692a73ea136bab269703b562c88d74c7a61ed504860e2b"
   }
  }
 },
 "nbformat": 4,
 "nbformat_minor": 2
}
