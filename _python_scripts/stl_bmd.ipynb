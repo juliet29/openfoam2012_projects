{
 "cells": [
  {
   "attachments": {},
   "cell_type": "markdown",
   "metadata": {},
   "source": [
    "# STL to block mesh dictionary python script \n",
    "### 12/26/22\n",
    "### update 1/4/23"
   ]
  },
  {
   "cell_type": "code",
   "execution_count": 2,
   "metadata": {},
   "outputs": [],
   "source": [
    "from __future__ import unicode_literals, print_function\n",
    "\n",
    "import math\n",
    "import numpy as np\n",
    "from ofblockmeshdicthelper import BlockMeshDict, Vertex, SimpleGrading\n"
   ]
  },
  {
   "cell_type": "code",
   "execution_count": 4,
   "metadata": {},
   "outputs": [],
   "source": [
    "# take in box parameters and build a mesh around them \n",
    "box_params = { #m\n",
    "    \"x\": 4.65, # x-z plane faces front of the wind tunnel, width \n",
    "    \"y\": 3.65, # depth of the box \n",
    "    \"z\": 3.66 # height 0 vertical \n",
    "}"
   ]
  },
  {
   "attachments": {},
   "cell_type": "markdown",
   "metadata": {},
   "source": [
    "## from block mesh dict "
   ]
  },
  {
   "attachments": {},
   "cell_type": "markdown",
   "metadata": {},
   "source": [
    "### wind tunnel "
   ]
  },
  {
   "cell_type": "code",
   "execution_count": 7,
   "metadata": {},
   "outputs": [
    {
     "data": {
      "text/plain": [
       "{'x': 26.61, 'y': 76.85000000000001, 'z': 14.64}"
      ]
     },
     "execution_count": 7,
     "metadata": {},
     "output_type": "execute_result"
    }
   ],
   "source": [
    "# ramponi + blocken 2012        \n",
    "# * H_D = H + d, \n",
    "# * W_D = W + 2d\n",
    "# * H, W = height and width of the building respectively \n",
    "# * d = 5H - 3H (start with 3H for early study) \n",
    "# * Upstream, downstream length => 5H and 15H \n",
    "\n",
    "H = box_params[\"z\"]\n",
    "d = 3 * H # 3H \n",
    "\n",
    "wt_params = {\n",
    "    \"x\": box_params[\"x\"] + 2*d,   # width \n",
    "    \"y\": box_params[\"y\"] + 5*H + 15*H, # depth \n",
    "    \"z\": box_params[\"z\"] + d, # height \n",
    "}\n",
    "wt_params\n"
   ]
  },
  {
   "cell_type": "code",
   "execution_count": null,
   "metadata": {},
   "outputs": [],
   "source": [
    "# geometries\n",
    "# wt_length = 20 # wt  = wind tunnel x-dir\n",
    "# wt_depth = 3 # z-dir\n",
    "# wt_height = 3 # y-dir\n",
    "# box_size = 1"
   ]
  },
  {
   "cell_type": "code",
   "execution_count": null,
   "metadata": {},
   "outputs": [],
   "source": [
    "# prepare ofblockmeshdicthelper.BlockMeshDict instance to\n",
    "# gather vertices, blocks, faces and boundaries.\n",
    "bmd = BlockMeshDict()\n",
    "\n",
    "# set metrics\n",
    "bmd.set_metric('m')\n"
   ]
  },
  {
   "cell_type": "code",
   "execution_count": null,
   "metadata": {},
   "outputs": [],
   "source": [
    "\n",
    "# base vertices of wind tunnel \n",
    "basevs = [\n",
    "    Vertex(0, 0, 0, 'v0'),\n",
    "    Vertex(wt_length, 0, 0, 'v1'),\n",
    "    Vertex(wt_length,  0, wt_depth, 'v2'),\n",
    "    Vertex(0, 0, wt_depth, 'v3')]\n",
    "\n",
    "for v in basevs:\n",
    "    print(f\"{v.name}: {v.x, v.y, v.z}\")"
   ]
  },
  {
   "cell_type": "code",
   "execution_count": null,
   "metadata": {},
   "outputs": [],
   "source": [
    "def vnamegen(x0z0, x1z0, x1z1, x0z1):\n",
    "    return (x0z0+'-y', x1z0+'-y', x1z0+'+y', x0z0+'+y',\n",
    "            x0z1+'-y', x1z1+'-y', x1z1+'+y', x0z1+'+y')"
   ]
  },
  {
   "cell_type": "code",
   "execution_count": null,
   "metadata": {},
   "outputs": [],
   "source": [
    "b0 = bmd.add_hexblock(vnamegen('v0', 'v1', 'v2', 'v3'),\n",
    "                      (80, 50, 20),\n",
    "                      'b0',\n",
    "                      grading=SimpleGrading(1,\n",
    "                                            1,\n",
    "                                            1))"
   ]
  },
  {
   "cell_type": "code",
   "execution_count": null,
   "metadata": {},
   "outputs": [],
   "source": [
    "bmd.add_boundary('wall', 'bottom', [b0.face('s')]) ## should probably be patches?\n",
    "bmd.add_boundary('patch', 'top', [b0.face('n')])\n",
    "\n",
    "bmd.add_boundary('patch', 'outlet', [b0.face('e')])\n",
    "bmd.add_boundary('patch', 'inlet', [b0.face('w')])\n",
    "\n",
    "bmd.add_boundary('symmetry', 'side01', [b0.face('b')])\n",
    "bmd.add_boundary('symmetry', 'side02', [b0.face('t')])"
   ]
  },
  {
   "attachments": {},
   "cell_type": "markdown",
   "metadata": {},
   "source": [
    "### internal block "
   ]
  },
  {
   "cell_type": "code",
   "execution_count": null,
   "metadata": {},
   "outputs": [],
   "source": [
    "# now want internal block\n",
    "# base vertices of wind tunnel \n",
    "boxvs = [\n",
    "    Vertex(box_size, 0, box_size, 'v4'),\n",
    "    Vertex(box_size + box_size, 0, box_size, 'v5'),\n",
    "    Vertex(box_size + box_size,  0, box_size + box_size, 'v6'),\n",
    "    Vertex(box_size, 0, box_size + box_size, 'v7')]"
   ]
  },
  {
   "cell_type": "code",
   "execution_count": null,
   "metadata": {},
   "outputs": [],
   "source": [
    "# raise up in the y direction \n",
    "for v in boxvs:\n",
    "    bmd.add_vertex(v.x, box_size, v.z, v.name+'+y')\n",
    "    bmd.add_vertex(v.x, 0, v.z, v.name+'-y')"
   ]
  },
  {
   "cell_type": "code",
   "execution_count": null,
   "metadata": {},
   "outputs": [],
   "source": [
    "b1 = bmd.add_hexblock(vnamegen('v4', 'v5', 'v6', 'v7'),\n",
    "                      (2, 5, 5),\n",
    "                      'b1',\n",
    "                      grading=SimpleGrading(1,\n",
    "                                            1,\n",
    "                                            1))\n",
    "[b1.face(i).name for i in range(6)]"
   ]
  },
  {
   "cell_type": "code",
   "execution_count": null,
   "metadata": {},
   "outputs": [],
   "source": [
    "bmd.add_boundary('wall', 'box', [b1.face(i) for i in range(6) ]) "
   ]
  },
  {
   "attachments": {},
   "cell_type": "markdown",
   "metadata": {},
   "source": [
    "# Finish "
   ]
  },
  {
   "cell_type": "code",
   "execution_count": null,
   "metadata": {},
   "outputs": [],
   "source": [
    "bmd.assign_vertexid()"
   ]
  },
  {
   "cell_type": "code",
   "execution_count": null,
   "metadata": {},
   "outputs": [],
   "source": [
    "print(bmd.format())"
   ]
  }
 ],
 "metadata": {
  "kernelspec": {
   "display_name": "cfdenv",
   "language": "python",
   "name": "python3"
  },
  "language_info": {
   "codemirror_mode": {
    "name": "ipython",
    "version": 3
   },
   "file_extension": ".py",
   "mimetype": "text/x-python",
   "name": "python",
   "nbconvert_exporter": "python",
   "pygments_lexer": "ipython3",
   "version": "3.10.8 (main, Oct 13 2022, 09:48:40) [Clang 14.0.0 (clang-1400.0.29.102)]"
  },
  "orig_nbformat": 4,
  "vscode": {
   "interpreter": {
    "hash": "476e7c1493e386aaa2692a73ea136bab269703b562c88d74c7a61ed504860e2b"
   }
  }
 },
 "nbformat": 4,
 "nbformat_minor": 2
}
