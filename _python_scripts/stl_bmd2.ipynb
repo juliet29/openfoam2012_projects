{
 "cells": [
  {
   "attachments": {},
   "cell_type": "markdown",
   "metadata": {},
   "source": [
    "# STL to block mesh dictionary python script \n",
    "### 12/26/22\n",
    "### update 1/4/23"
   ]
  },
  {
   "cell_type": "code",
   "execution_count": 1,
   "metadata": {},
   "outputs": [],
   "source": [
    "from __future__ import unicode_literals, print_function\n",
    "\n",
    "import math\n",
    "import numpy as np\n",
    "from ofblockmeshdicthelper import BlockMeshDict, Vertex, SimpleGrading\n",
    "from collections import OrderedDict\n"
   ]
  },
  {
   "cell_type": "code",
   "execution_count": 2,
   "metadata": {},
   "outputs": [],
   "source": [
    "# ^ y\n",
    "# |  /z (to the outlet )\n",
    "# | /\n",
    "# |/_________> x    \n",
    "\n",
    "\n",
    "# ^ y\n",
    "# |\n",
    "# |\n",
    "# |__________________________> z"
   ]
  },
  {
   "cell_type": "code",
   "execution_count": 3,
   "metadata": {},
   "outputs": [],
   "source": [
    "# take in box parameters and build a mesh around them \n",
    "box_params = { #m\n",
    "    \"x\": 4.65, # x-y plane faces front of the wind tunnel, width \n",
    "    \"z\": 3.65, # depth of the box \n",
    "    \"y\": 3.66 # height 0 vertical \n",
    "}\n",
    "\n"
   ]
  },
  {
   "cell_type": "code",
   "execution_count": 4,
   "metadata": {},
   "outputs": [],
   "source": [
    "## wind tunnel params \n",
    "# ramponi + blocken 2012        \n",
    "# * H_D = H + d, \n",
    "# * W_D = W + 2d\n",
    "# * H, W = height and width of the building respectively \n",
    "# * d = 5H - 3H (start with 3H for early study) \n",
    "# * Upstream, downstream length => 5H and 15H \n",
    "\n",
    "H = box_params[\"y\"]\n",
    "d = 3 * H # 3H \n",
    "\n",
    "wt_params = {\n",
    "    \"x\": box_params[\"x\"] + 2*d,   # width / length\n",
    "    \"z\": box_params[\"z\"] + 5*H + 15*H, # depth \n",
    "    \"y\": box_params[\"y\"] + d, # height \n",
    "}\n",
    "wt_params = OrderedDict(wt_params)"
   ]
  },
  {
   "cell_type": "code",
   "execution_count": 5,
   "metadata": {},
   "outputs": [
    {
     "data": {
      "text/plain": [
       "(52, 150, 29)"
      ]
     },
     "execution_count": 5,
     "metadata": {},
     "output_type": "execute_result"
    }
   ],
   "source": [
    "# smallest dimension of the building to find the minimum grid size \n",
    "min_dim = min(box_params.values())\n",
    "min_grid_size = min_dim/10\n",
    "min_grid_size # 0.35 .... maybe consider the windows for this?\n",
    "\n",
    "# grid size in areas of interest, again what about winodws?\n",
    "box_volume = np.prod(list(box_params.values()))\n",
    "box_volume_croot = box_volume**(1/3)\n",
    "interest_grid_size = box_volume_croot/10\n",
    "\n",
    "# away from areas of interest \n",
    "n = 1\n",
    "expansion_ratio = 1.3\n",
    "uninterest_grid_size = interest_grid_size * (1.3**n)\n",
    "\n",
    "# determine number of cells in each direction \n",
    "cells = [int(np.ceil(i/uninterest_grid_size)) for i in wt_params.values()]\n",
    "cells = tuple(cells)\n",
    "cells"
   ]
  },
  {
   "attachments": {},
   "cell_type": "markdown",
   "metadata": {},
   "source": [
    "## make block mesh dict "
   ]
  },
  {
   "cell_type": "code",
   "execution_count": 6,
   "metadata": {},
   "outputs": [],
   "source": [
    "# prepare ofblockmeshdicthelper.BlockMeshDict instance to\n",
    "# gather vertices, blocks, faces and boundaries.\n",
    "bmd = BlockMeshDict()\n",
    "\n",
    "# set metrics\n",
    "bmd.set_metric('m')\n"
   ]
  },
  {
   "cell_type": "code",
   "execution_count": 7,
   "metadata": {},
   "outputs": [
    {
     "name": "stdout",
     "output_type": "stream",
     "text": [
      "v0: (0, 0, 0)\n",
      "v1: (26.61, 0, 0)\n",
      "v2: (26.61, 0, 76.85000000000001)\n",
      "v3: (0, 0, 76.85000000000001)\n"
     ]
    }
   ],
   "source": [
    "# wind tunnel \n",
    "\n",
    "basevs = [\n",
    "    Vertex(0, 0, 0, 'v0'),\n",
    "    Vertex(wt_params[\"x\"], 0, 0, 'v1'),\n",
    "    Vertex(wt_params[\"x\"],  0, wt_params[\"z\"], 'v2'),\n",
    "    Vertex(0, 0, wt_params[\"z\"], 'v3')]\n",
    "\n",
    "# for v in basevs:\n",
    "#     print(f\"{v.name}: {v.x, v.y, v.z}\")\n",
    "\n",
    "\n",
    "# raise up in the y direction \n",
    "for v in basevs:\n",
    "    bmd.add_vertex(v.x, wt_params[\"y\"], v.z, v.name+'+y')\n",
    "    bmd.add_vertex(v.x, v.y, 0, v.name+'-y')\n",
    "\n",
    "for v in basevs:\n",
    "    print(f\"{v.name}: {v.x, v.y, v.z}\")"
   ]
  },
  {
   "cell_type": "code",
   "execution_count": 8,
   "metadata": {},
   "outputs": [],
   "source": [
    "# print names and coordinates of a block mesh dict object \n",
    "def print_vertices(bmd):\n",
    "    for k,v in bmd.vertices.items():\n",
    "        print(f\"{k} : ({bmd.vertices[k].x}, {bmd.vertices[k].y}, {bmd.vertices[k].z})\")"
   ]
  },
  {
   "cell_type": "code",
   "execution_count": 9,
   "metadata": {},
   "outputs": [],
   "source": [
    "def vnamegen(x0y0, x1y0, x1y1, x0y1):\n",
    "    \"generate names from the hex block\"\n",
    "    return (x0y0+'-y', x1y0+'-y', x1y0+'+y', x0y0+'+y',\n",
    "            x0y1+'-y', x1y1+'-y', x1y1+'+y', x0y1+'+y')"
   ]
  },
  {
   "cell_type": "code",
   "execution_count": 10,
   "metadata": {},
   "outputs": [
    {
     "data": {
      "text/plain": [
       "('v0-y', 'v1-y', 'v1+y', 'v0+y', 'v3-y', 'v2-y', 'v2+y', 'v3+y')"
      ]
     },
     "execution_count": 10,
     "metadata": {},
     "output_type": "execute_result"
    }
   ],
   "source": [
    "vnamegen('v0', 'v1', 'v2', 'v3')"
   ]
  },
  {
   "cell_type": "code",
   "execution_count": 11,
   "metadata": {},
   "outputs": [],
   "source": [
    "b0 = bmd.add_hexblock(vnamegen('v0', 'v1', 'v2', 'v3'),\n",
    "                      cells,\n",
    "                      'b0',\n",
    "                      grading=SimpleGrading(1,\n",
    "                                            1,\n",
    "                                            1))"
   ]
  },
  {
   "cell_type": "code",
   "execution_count": null,
   "metadata": {},
   "outputs": [],
   "source": []
  },
  {
   "cell_type": "code",
   "execution_count": 12,
   "metadata": {},
   "outputs": [],
   "source": [
    "        # index is number or keyword to identify the face of Hex\n",
    "        #     0 = 'w' = 'xm' = '-100' = (0 4 7 3)\n",
    "        #     1 = 'e' = 'xp' = '100' = (1 2 5 6)\n",
    "        #     2 = 's' = 'ym' = '0-10' = (0 1 5 4)\n",
    "        #     3 = 'n' = 'yp' = '010' = (2 3 7 6)\n",
    "        #     4 = 'b' = 'zm' = '00-1' = (0 3 2 1)\n",
    "        #     5 = 't' = zp' = '001' = (4 5 6 7)\n",
    "        # name is given to Face instance. If omitt"
   ]
  },
  {
   "cell_type": "code",
   "execution_count": 13,
   "metadata": {},
   "outputs": [
    {
     "name": "stdout",
     "output_type": "stream",
     "text": [
      "v0+y : (0, 14.64, 0)\n",
      "v0-y : (0, 0, 0)\n",
      "v1+y : (26.61, 14.64, 0)\n",
      "v1-y : (26.61, 0, 0)\n",
      "v2+y : (26.61, 14.64, 76.85000000000001)\n",
      "v2-y : (26.61, 0, 0)\n",
      "v3+y : (0, 14.64, 76.85000000000001)\n",
      "v3-y : (0, 0, 0)\n"
     ]
    }
   ],
   "source": [
    "print_vertices(bmd)"
   ]
  },
  {
   "cell_type": "code",
   "execution_count": 14,
   "metadata": {},
   "outputs": [
    {
     "name": "stdout",
     "output_type": "stream",
     "text": [
      "('v0-y', 'v3-y', 'v3+y', 'v0+y')\n",
      "('v1-y', 'v1+y', 'v2+y', 'v2-y')\n",
      "('v0-y', 'v1-y', 'v2-y', 'v3-y')\n",
      "('v1+y', 'v0+y', 'v3+y', 'v2+y')\n",
      "('v0-y', 'v0+y', 'v1+y', 'v1-y')\n",
      "('v3-y', 'v2-y', 'v2+y', 'v3+y')\n"
     ]
    }
   ],
   "source": [
    "for i in range(6):\n",
    "    print(b0.face(i).vnames)"
   ]
  },
  {
   "cell_type": "code",
   "execution_count": 15,
   "metadata": {},
   "outputs": [],
   "source": [
    "boundaries = [\"symmetry\", \"symmetry\", \"wall\", \"patch\", \"patch\", \"patch\"]\n",
    "names = [\"side01\", \"side02\", \"bottom\", \"top\", \"inlet\", \"outlet\"]\n",
    "for i, boundary, name in zip(range(6), boundaries, names):\n",
    "    bmd.add_boundary(boundary, name, [b0.face(i)])"
   ]
  },
  {
   "cell_type": "code",
   "execution_count": 16,
   "metadata": {},
   "outputs": [
    {
     "name": "stdout",
     "output_type": "stream",
     "text": [
      "side01: (('v0-y', 'v3-y', 'v3+y', 'v0+y'),)\n",
      "side02: (('v1-y', 'v1+y', 'v2+y', 'v2-y'),)\n",
      "bottom: (('v0-y', 'v1-y', 'v2-y', 'v3-y'),)\n",
      "top: (('v1+y', 'v0+y', 'v3+y', 'v2+y'),)\n",
      "inlet: (('v0-y', 'v0+y', 'v1+y', 'v1-y'),)\n",
      "outlet: (('v3-y', 'v2-y', 'v2+y', 'v3+y'),)\n"
     ]
    }
   ],
   "source": [
    "for k,v in bmd.boundaries.items():\n",
    "    print(f\"{k}: {bmd.boundaries[k].faces[0].vnames, }\")\n",
    "    "
   ]
  },
  {
   "attachments": {},
   "cell_type": "markdown",
   "metadata": {},
   "source": [
    "# Finish "
   ]
  },
  {
   "cell_type": "code",
   "execution_count": 17,
   "metadata": {},
   "outputs": [],
   "source": [
    "bmd.assign_vertexid()"
   ]
  },
  {
   "cell_type": "code",
   "execution_count": 18,
   "metadata": {},
   "outputs": [
    {
     "name": "stdout",
     "output_type": "stream",
     "text": [
      "/*--------------------------------*- C++ -*----------------------------------*\\\n",
      "| =========                 |                                                 |\n",
      "| \\\\      /  F ield         | OpenFOAM: The Open Source CFD Toolbox           |\n",
      "|  \\\\    /   O peration     | Version:  2.3.0                                 |\n",
      "|   \\\\  /    A nd           | Web:      www.OpenFOAM.org                      |\n",
      "|    \\\\/     M anipulation  |                                                 |\n",
      "\\*---------------------------------------------------------------------------*/\n",
      "FoamFile\n",
      "{\n",
      "    version     2.0;\n",
      "    format      ascii;\n",
      "    class       dictionary;\n",
      "    object      blockMeshDict;\n",
      "}\n",
      "// * * * * * * * * * * * * * * * * * * * * * * * * * * * * * * * * * * * * * //\n",
      "\n",
      "convertToMeters 1;\n",
      "\n",
      "vertices\n",
      "(\n",
      "    (                  0                  0                  0 )  // 0 v0-y\n",
      "    (              26.61                  0                  0 )  // 1 v1-y\n",
      "    (                  0                  0                  0 )  // 2 v3-y\n",
      "    (              26.61                  0                  0 )  // 3 v2-y\n",
      "    (              26.61              14.64                  0 )  // 4 v1+y\n",
      "    (                  0              14.64                  0 )  // 5 v0+y\n",
      "    (                  0              14.64              76.85 )  // 6 v3+y\n",
      "    (              26.61              14.64              76.85 )  // 7 v2+y\n",
      ");\n",
      "\n",
      "edges\n",
      "(\n",
      ");\n",
      "\n",
      "blocks\n",
      "(\n",
      "    hex (0 1 4 5 2 3 7 6) b0 (52 150 29) simpleGrading (1 1 1)  // b0 (v0-y v1-y v1+y v0+y v3-y v2-y v2+y v3+y)\n",
      ");\n",
      "\n",
      "boundary\n",
      "(\n",
      "    side01\n",
      "    {\n",
      "        type symmetry;\n",
      "        faces\n",
      "        (\n",
      "            (0 2 6 5)  // f-b0-w (v0-y v3-y v3+y v0+y)\n",
      "        );\n",
      "    }\n",
      "    side02\n",
      "    {\n",
      "        type symmetry;\n",
      "        faces\n",
      "        (\n",
      "            (1 4 7 3)  // f-b0-n (v1-y v1+y v2+y v2-y)\n",
      "        );\n",
      "    }\n",
      "    bottom\n",
      "    {\n",
      "        type wall;\n",
      "        faces\n",
      "        (\n",
      "            (0 1 3 2)  // f-b0-s (v0-y v1-y v2-y v3-y)\n",
      "        );\n",
      "    }\n",
      "    top\n",
      "    {\n",
      "        type patch;\n",
      "        faces\n",
      "        (\n",
      "            (4 5 6 7)  // f-b0-n (v1+y v0+y v3+y v2+y)\n",
      "        );\n",
      "    }\n",
      "    inlet\n",
      "    {\n",
      "        type patch;\n",
      "        faces\n",
      "        (\n",
      "            (0 5 4 1)  // f-b0-b (v0-y v0+y v1+y v1-y)\n",
      "        );\n",
      "    }\n",
      "    outlet\n",
      "    {\n",
      "        type patch;\n",
      "        faces\n",
      "        (\n",
      "            (2 3 7 6)  // f-b0-t (v3-y v2-y v2+y v3+y)\n",
      "        );\n",
      "    }\n",
      ");\n",
      "\n",
      "mergePatchPairs\n",
      "(\n",
      ");\n",
      "\n",
      "// ************************************************************************* //\n",
      "\n"
     ]
    }
   ],
   "source": [
    "print(bmd.format())"
   ]
  },
  {
   "cell_type": "code",
   "execution_count": 19,
   "metadata": {},
   "outputs": [],
   "source": [
    "# automatically write to block mesh file? "
   ]
  }
 ],
 "metadata": {
  "kernelspec": {
   "display_name": "cfdenv",
   "language": "python",
   "name": "python3"
  },
  "language_info": {
   "codemirror_mode": {
    "name": "ipython",
    "version": 3
   },
   "file_extension": ".py",
   "mimetype": "text/x-python",
   "name": "python",
   "nbconvert_exporter": "python",
   "pygments_lexer": "ipython3",
   "version": "3.10.8"
  },
  "orig_nbformat": 4,
  "vscode": {
   "interpreter": {
    "hash": "476e7c1493e386aaa2692a73ea136bab269703b562c88d74c7a61ed504860e2b"
   }
  }
 },
 "nbformat": 4,
 "nbformat_minor": 2
}
