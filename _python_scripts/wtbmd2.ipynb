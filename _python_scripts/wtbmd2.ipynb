{
 "cells": [
  {
   "cell_type": "code",
   "execution_count": 19,
   "metadata": {},
   "outputs": [],
   "source": [
    "from __future__ import unicode_literals, print_function\n",
    "\n",
    "import math\n",
    "\n",
    "from ofblockmeshdicthelper import BlockMeshDict, Vertex, SimpleGrading\n"
   ]
  },
  {
   "cell_type": "code",
   "execution_count": 20,
   "metadata": {},
   "outputs": [],
   "source": [
    "# geometries\n",
    "wt_length = 20 # wt  = wind tunnel x-dir\n",
    "wt_depth = 3 # z-dir\n",
    "wt_height = 3 # y-dir\n",
    "box_size = 1"
   ]
  },
  {
   "cell_type": "code",
   "execution_count": 21,
   "metadata": {},
   "outputs": [],
   "source": [
    "\n",
    "\n",
    "# prepare ofblockmeshdicthelper.BlockMeshDict instance to\n",
    "# gather vertices, blocks, faces and boundaries.\n",
    "bmd = BlockMeshDict()\n",
    "\n",
    "# set metrics\n",
    "bmd.set_metric('m')\n",
    "\n",
    "# base vertices of wind tunnel \n",
    "basevs = [\n",
    "    Vertex(0, 0, 0, 'v0'),\n",
    "    Vertex(wt_length, 0, 0, 'v1'),\n",
    "    Vertex(wt_length,  0, wt_depth, 'v2'),\n",
    "    Vertex(0, 0, wt_depth, 'v3')]"
   ]
  },
  {
   "cell_type": "code",
   "execution_count": 22,
   "metadata": {},
   "outputs": [
    {
     "name": "stdout",
     "output_type": "stream",
     "text": [
      "v0: (0, 0, 0)\n",
      "v1: (20, 0, 0)\n",
      "v2: (20, 0, 3)\n",
      "v3: (0, 0, 3)\n"
     ]
    }
   ],
   "source": [
    "for v in basevs:\n",
    "    print(f\"{v.name}: {v.x, v.y, v.z}\")"
   ]
  },
  {
   "cell_type": "code",
   "execution_count": 23,
   "metadata": {},
   "outputs": [],
   "source": [
    "# raise up in the y direction \n",
    "for v in basevs:\n",
    "    bmd.add_vertex(v.x, wt_height, v.z, v.name+'+y')\n",
    "    bmd.add_vertex(v.x, 0, v.z, v.name+'-y')"
   ]
  },
  {
   "cell_type": "code",
   "execution_count": 24,
   "metadata": {},
   "outputs": [
    {
     "data": {
      "text/plain": [
       "{'v0+y': <ofblockmeshdicthelper.Vertex at 0x107b35720>,\n",
       " 'v0-y': <ofblockmeshdicthelper.Vertex at 0x107b34f70>,\n",
       " 'v1+y': <ofblockmeshdicthelper.Vertex at 0x107b34ac0>,\n",
       " 'v1-y': <ofblockmeshdicthelper.Vertex at 0x107b36d10>,\n",
       " 'v2+y': <ofblockmeshdicthelper.Vertex at 0x107b36d70>,\n",
       " 'v2-y': <ofblockmeshdicthelper.Vertex at 0x107b34fd0>,\n",
       " 'v3+y': <ofblockmeshdicthelper.Vertex at 0x107b34850>,\n",
       " 'v3-y': <ofblockmeshdicthelper.Vertex at 0x107b365c0>}"
      ]
     },
     "execution_count": 24,
     "metadata": {},
     "output_type": "execute_result"
    }
   ],
   "source": [
    "bmd.vertices"
   ]
  },
  {
   "cell_type": "code",
   "execution_count": 25,
   "metadata": {},
   "outputs": [],
   "source": [
    "def vnamegen(x0z0, x1z0, x1z1, x0z1):\n",
    "    return (x0z0+'-y', x1z0+'-y', x1z0+'+y', x0z0+'+y',\n",
    "            x0z1+'-y', x1z1+'-y', x1z1+'+y', x0z1+'+y')"
   ]
  },
  {
   "cell_type": "code",
   "execution_count": 26,
   "metadata": {},
   "outputs": [],
   "source": [
    "\n",
    "b0 = bmd.add_hexblock(vnamegen('v0', 'v1', 'v2', 'v3'),\n",
    "                      (80, 50, 20),\n",
    "                      'b0',\n",
    "                      grading=SimpleGrading(1,\n",
    "                                            1,\n",
    "                                            1))"
   ]
  },
  {
   "cell_type": "code",
   "execution_count": 27,
   "metadata": {},
   "outputs": [],
   "source": [
    "# checking if this maesses things up... no it doesnt \n",
    "\n",
    "# boundaries = [\"symmetry\", \"symmetry\", \"wall\", \"patch\", \"patch\", \"patch\"]\n",
    "# names = [\"side01\", \"side02\", \"bottom\", \"top\", \"inlet\", \"outlet\"]\n",
    "# for i, boundary, name in zip(range(6), boundaries, names):\n",
    "#     bmd.add_boundary(boundary, name, [b0.face(i)])"
   ]
  },
  {
   "cell_type": "code",
   "execution_count": 28,
   "metadata": {},
   "outputs": [],
   "source": [
    "bmd.add_boundary('wall', 'bottom', [b0.face('s')]) ## should probably be patches?\n",
    "bmd.add_boundary('patch', 'top', [b0.face('n')])\n",
    "\n",
    "bmd.add_boundary('patch', 'outlet', [b0.face('e')])\n",
    "bmd.add_boundary('patch', 'inlet', [b0.face('w')])\n",
    "\n",
    "bmd.add_boundary('symmetry', 'side01', [b0.face('b')])\n",
    "bmd.add_boundary('symmetry', 'side02', [b0.face('t')])\n"
   ]
  },
  {
   "cell_type": "code",
   "execution_count": 29,
   "metadata": {},
   "outputs": [
    {
     "name": "stdout",
     "output_type": "stream",
     "text": [
      "['side01', 'side02', 'bottom', 'top', 'inlet', 'outlet']\n"
     ]
    }
   ],
   "source": [
    "print([v.name for v in bmd.boundaries.values()])"
   ]
  },
  {
   "cell_type": "markdown",
   "metadata": {},
   "source": [
    "### internal block"
   ]
  },
  {
   "cell_type": "code",
   "execution_count": 30,
   "metadata": {},
   "outputs": [],
   "source": [
    "# now want internal block\n",
    "# base vertices of wind tunnel \n",
    "boxvs = [\n",
    "    Vertex(box_size, 0, box_size, 'v4'),\n",
    "    Vertex(box_size + box_size, 0, box_size, 'v5'),\n",
    "    Vertex(box_size + box_size,  0, box_size + box_size, 'v6'),\n",
    "    Vertex(box_size, 0, box_size + box_size, 'v7')]"
   ]
  },
  {
   "cell_type": "code",
   "execution_count": 31,
   "metadata": {},
   "outputs": [],
   "source": [
    "# raise up in the y direction \n",
    "for v in boxvs:\n",
    "    bmd.add_vertex(v.x, box_size, v.z, v.name+'+y')\n",
    "    bmd.add_vertex(v.x, 0, v.z, v.name+'-y')"
   ]
  },
  {
   "cell_type": "code",
   "execution_count": 32,
   "metadata": {},
   "outputs": [],
   "source": [
    "b1 = bmd.add_hexblock(vnamegen('v4', 'v5', 'v6', 'v7'),\n",
    "                      (2, 5, 5),\n",
    "                      'b1',\n",
    "                      grading=SimpleGrading(1,\n",
    "                                            1,\n",
    "                                            1))"
   ]
  },
  {
   "cell_type": "code",
   "execution_count": 33,
   "metadata": {},
   "outputs": [
    {
     "data": {
      "text/plain": [
       "'f-b1-w'"
      ]
     },
     "execution_count": 33,
     "metadata": {},
     "output_type": "execute_result"
    }
   ],
   "source": [
    "b1.face(0).name"
   ]
  },
  {
   "cell_type": "code",
   "execution_count": 34,
   "metadata": {},
   "outputs": [
    {
     "data": {
      "text/plain": [
       "['f-b1-w', 'f-b1-n', 'f-b1-s', 'f-b1-n', 'f-b1-b', 'f-b1-t']"
      ]
     },
     "execution_count": 34,
     "metadata": {},
     "output_type": "execute_result"
    }
   ],
   "source": [
    "[b1.face(i).name for i in range(6)]"
   ]
  },
  {
   "cell_type": "code",
   "execution_count": 35,
   "metadata": {},
   "outputs": [
    {
     "data": {
      "text/plain": [
       "<ofblockmeshdicthelper.Boundary at 0x107b35750>"
      ]
     },
     "execution_count": 35,
     "metadata": {},
     "output_type": "execute_result"
    }
   ],
   "source": [
    "bmd.add_boundary('wall', 'box', [b1.face(i) for i in range(6) ]) "
   ]
  },
  {
   "cell_type": "markdown",
   "metadata": {},
   "source": [
    "### finish "
   ]
  },
  {
   "cell_type": "code",
   "execution_count": 36,
   "metadata": {},
   "outputs": [],
   "source": [
    "bmd.assign_vertexid()"
   ]
  },
  {
   "cell_type": "code",
   "execution_count": 37,
   "metadata": {},
   "outputs": [
    {
     "name": "stdout",
     "output_type": "stream",
     "text": [
      "/*--------------------------------*- C++ -*----------------------------------*\\\n",
      "| =========                 |                                                 |\n",
      "| \\\\      /  F ield         | OpenFOAM: The Open Source CFD Toolbox           |\n",
      "|  \\\\    /   O peration     | Version:  2.3.0                                 |\n",
      "|   \\\\  /    A nd           | Web:      www.OpenFOAM.org                      |\n",
      "|    \\\\/     M anipulation  |                                                 |\n",
      "\\*---------------------------------------------------------------------------*/\n",
      "FoamFile\n",
      "{\n",
      "    version     2.0;\n",
      "    format      ascii;\n",
      "    class       dictionary;\n",
      "    object      blockMeshDict;\n",
      "}\n",
      "// * * * * * * * * * * * * * * * * * * * * * * * * * * * * * * * * * * * * * //\n",
      "\n",
      "convertToMeters 1;\n",
      "\n",
      "vertices\n",
      "(\n",
      "    (                  0                  0                  0 )  // 0 v0-y\n",
      "    (                 20                  0                  0 )  // 1 v1-y\n",
      "    (                 20                  3                  0 )  // 2 v1+y\n",
      "    (                  0                  3                  0 )  // 3 v0+y\n",
      "    (                  1                  0                  1 )  // 4 v4-y\n",
      "    (                  2                  0                  1 )  // 5 v5-y\n",
      "    (                  2                  1                  1 )  // 6 v5+y\n",
      "    (                  1                  1                  1 )  // 7 v4+y\n",
      "    (                  1                  0                  2 )  // 8 v7-y\n",
      "    (                  2                  0                  2 )  // 9 v6-y\n",
      "    (                  1                  1                  2 )  // 10 v7+y\n",
      "    (                  2                  1                  2 )  // 11 v6+y\n",
      "    (                  0                  0                  3 )  // 12 v3-y\n",
      "    (                 20                  0                  3 )  // 13 v2-y\n",
      "    (                  0                  3                  3 )  // 14 v3+y\n",
      "    (                 20                  3                  3 )  // 15 v2+y\n",
      ");\n",
      "\n",
      "edges\n",
      "(\n",
      ");\n",
      "\n",
      "blocks\n",
      "(\n",
      "    hex (0 1 2 3 12 13 15 14) b0 (80 50 20) simpleGrading (1 1 1)  // b0 (v0-y v1-y v1+y v0+y v3-y v2-y v2+y v3+y)\n",
      "    hex (4 5 6 7 8 9 11 10) b1 (2 5 5) simpleGrading (1 1 1)  // b1 (v4-y v5-y v5+y v4+y v7-y v6-y v6+y v7+y)\n",
      ");\n",
      "\n",
      "boundary\n",
      "(\n",
      "    side01\n",
      "    {\n",
      "        type symmetry;\n",
      "        faces\n",
      "        (\n",
      "            (0 12 14 3)  // f-b0-w (v0-y v3-y v3+y v0+y)\n",
      "        );\n",
      "    }\n",
      "    side02\n",
      "    {\n",
      "        type symmetry;\n",
      "        faces\n",
      "        (\n",
      "            (1 2 15 13)  // f-b0-n (v1-y v1+y v2+y v2-y)\n",
      "        );\n",
      "    }\n",
      "    bottom\n",
      "    {\n",
      "        type wall;\n",
      "        faces\n",
      "        (\n",
      "            (0 1 13 12)  // f-b0-s (v0-y v1-y v2-y v3-y)\n",
      "        );\n",
      "    }\n",
      "    top\n",
      "    {\n",
      "        type patch;\n",
      "        faces\n",
      "        (\n",
      "            (2 3 14 15)  // f-b0-n (v1+y v0+y v3+y v2+y)\n",
      "        );\n",
      "    }\n",
      "    inlet\n",
      "    {\n",
      "        type patch;\n",
      "        faces\n",
      "        (\n",
      "            (0 3 2 1)  // f-b0-b (v0-y v0+y v1+y v1-y)\n",
      "        );\n",
      "    }\n",
      "    outlet\n",
      "    {\n",
      "        type patch;\n",
      "        faces\n",
      "        (\n",
      "            (12 13 15 14)  // f-b0-t (v3-y v2-y v2+y v3+y)\n",
      "        );\n",
      "    }\n",
      "    box\n",
      "    {\n",
      "        type wall;\n",
      "        faces\n",
      "        (\n",
      "            (4 8 10 7)  // f-b1-w (v4-y v7-y v7+y v4+y)\n",
      "            (5 6 11 9)  // f-b1-n (v5-y v5+y v6+y v6-y)\n",
      "            (4 5 9 8)  // f-b1-s (v4-y v5-y v6-y v7-y)\n",
      "            (6 7 10 11)  // f-b1-n (v5+y v4+y v7+y v6+y)\n",
      "            (4 7 6 5)  // f-b1-b (v4-y v4+y v5+y v5-y)\n",
      "            (8 9 11 10)  // f-b1-t (v7-y v6-y v6+y v7+y)\n",
      "        );\n",
      "    }\n",
      ");\n",
      "\n",
      "mergePatchPairs\n",
      "(\n",
      ");\n",
      "\n",
      "// ************************************************************************* //\n",
      "\n"
     ]
    }
   ],
   "source": [
    "print(bmd.format())"
   ]
  }
 ],
 "metadata": {
  "kernelspec": {
   "display_name": "cfdenv",
   "language": "python",
   "name": "python3"
  },
  "language_info": {
   "codemirror_mode": {
    "name": "ipython",
    "version": 3
   },
   "file_extension": ".py",
   "mimetype": "text/x-python",
   "name": "python",
   "nbconvert_exporter": "python",
   "pygments_lexer": "ipython3",
   "version": "3.10.8"
  },
  "orig_nbformat": 4,
  "vscode": {
   "interpreter": {
    "hash": "476e7c1493e386aaa2692a73ea136bab269703b562c88d74c7a61ed504860e2b"
   }
  }
 },
 "nbformat": 4,
 "nbformat_minor": 2
}
