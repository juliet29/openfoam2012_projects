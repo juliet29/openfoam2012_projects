{
 "cells": [
  {
   "cell_type": "code",
   "execution_count": 1,
   "metadata": {},
   "outputs": [],
   "source": [
    "from __future__ import unicode_literals, print_function\n",
    "\n",
    "import math\n",
    "\n",
    "from ofblockmeshdicthelper import BlockMeshDict, Vertex, SimpleGrading\n"
   ]
  },
  {
   "cell_type": "code",
   "execution_count": 42,
   "metadata": {},
   "outputs": [],
   "source": [
    "# geometries\n",
    "wt_length = 20 # wt  = wind tunnel x-dir\n",
    "wt_depth = 3 # z-dir\n",
    "wt_height = 3 # y-dir\n",
    "box_size = 1\n",
    "\n",
    "# prepare ofblockmeshdicthelper.BlockMeshDict instance to\n",
    "# gather vertices, blocks, faces and boundaries.\n",
    "bmd = BlockMeshDict()\n",
    "\n",
    "# set metrics\n",
    "bmd.set_metric('m')\n",
    "\n",
    "# base vertices of wind tunnel \n",
    "basevs = [\n",
    "    Vertex(0, 0, 0, 'v0'),\n",
    "    Vertex(wt_length, 0, 0, 'v1'),\n",
    "    Vertex(wt_length,  0, wt_depth, 'v2'),\n",
    "    Vertex(0, 0, wt_depth, 'v3')]"
   ]
  },
  {
   "cell_type": "code",
   "execution_count": 43,
   "metadata": {},
   "outputs": [
    {
     "name": "stdout",
     "output_type": "stream",
     "text": [
      "v0: (0, 0, 0)\n",
      "v1: (20, 0, 0)\n",
      "v2: (20, 0, 3)\n",
      "v3: (0, 0, 3)\n"
     ]
    }
   ],
   "source": [
    "for v in basevs:\n",
    "    print(f\"{v.name}: {v.x, v.y, v.z}\")"
   ]
  },
  {
   "cell_type": "code",
   "execution_count": 44,
   "metadata": {},
   "outputs": [],
   "source": [
    "# raise up in the y direction \n",
    "for v in basevs:\n",
    "    bmd.add_vertex(v.x, v.y, wt_height/2, v.name+'+y')\n",
    "    bmd.add_vertex(v.x, v.y, -wt_height/2, v.name+'-y')"
   ]
  },
  {
   "cell_type": "code",
   "execution_count": 45,
   "metadata": {},
   "outputs": [
    {
     "data": {
      "text/plain": [
       "{'v0+y': <ofblockmeshdicthelper.Vertex at 0x108b8c2b0>,\n",
       " 'v0-y': <ofblockmeshdicthelper.Vertex at 0x108b8cf40>,\n",
       " 'v1+y': <ofblockmeshdicthelper.Vertex at 0x108b8ce80>,\n",
       " 'v1-y': <ofblockmeshdicthelper.Vertex at 0x108b8df00>,\n",
       " 'v2+y': <ofblockmeshdicthelper.Vertex at 0x108b8c430>,\n",
       " 'v2-y': <ofblockmeshdicthelper.Vertex at 0x108b8c400>,\n",
       " 'v3+y': <ofblockmeshdicthelper.Vertex at 0x108b8d2d0>,\n",
       " 'v3-y': <ofblockmeshdicthelper.Vertex at 0x108b8c880>}"
      ]
     },
     "execution_count": 45,
     "metadata": {},
     "output_type": "execute_result"
    }
   ],
   "source": [
    "bmd.vertices"
   ]
  },
  {
   "cell_type": "code",
   "execution_count": 46,
   "metadata": {},
   "outputs": [],
   "source": [
    "def vnamegen(x0z0, x1z0, x1z1, x0z1):\n",
    "    return (x0z0+'-y', x1z0+'-y', x1z0+'+y', x0z0+'+y',\n",
    "            x0z1+'-y', x1z1+'-y', x1z1+'+y', x0z1+'+y')"
   ]
  },
  {
   "cell_type": "code",
   "execution_count": 47,
   "metadata": {},
   "outputs": [
    {
     "data": {
      "text/plain": [
       "('v0-y', 'v1-y', 'v1+y', 'v0+y', 'v3-y', 'v2-y', 'v2+y', 'v3+y')"
      ]
     },
     "execution_count": 47,
     "metadata": {},
     "output_type": "execute_result"
    }
   ],
   "source": [
    "vnamegen('v0', 'v1', 'v2', 'v3')"
   ]
  },
  {
   "cell_type": "code",
   "execution_count": 48,
   "metadata": {},
   "outputs": [],
   "source": [
    "b0 = bmd.add_hexblock(vnamegen('v0', 'v1', 'v2', 'v3'),\n",
    "                      (19, 1, 300),\n",
    "                      'b0',\n",
    "                      grading=SimpleGrading(1,\n",
    "                                            1,\n",
    "                                            1))"
   ]
  },
  {
   "cell_type": "code",
   "execution_count": 55,
   "metadata": {},
   "outputs": [
    {
     "data": {
      "text/plain": [
       "<ofblockmeshdicthelper.Boundary at 0x108b8c490>"
      ]
     },
     "execution_count": 55,
     "metadata": {},
     "output_type": "execute_result"
    }
   ],
   "source": [
    "bmd.add_boundary('wall', 'front', [b0.face('s')]) ## should probably be patches?\n",
    "bmd.add_boundary('wall', 'back', [b0.face('n')])\n",
    "\n",
    "bmd.add_boundary('symmetry', 'side_east', [b0.face('e')])\n",
    "bmd.add_boundary('symmetry', 'side_west', [b0.face('w')])\n",
    "\n",
    "bmd.add_boundary('wall', 'ground', [b0.face('b')])\n",
    "bmd.add_boundary('wall', 'top', [b0.face('t')])\n"
   ]
  },
  {
   "cell_type": "code",
   "execution_count": 56,
   "metadata": {},
   "outputs": [
    {
     "name": "stdout",
     "output_type": "stream",
     "text": [
      "['front', 'back', 'side', 'ground', 'top', 'side_east', 'side_west']\n"
     ]
    }
   ],
   "source": [
    "print([v.name for v in bmd.boundaries.values()])"
   ]
  },
  {
   "cell_type": "code",
   "execution_count": 57,
   "metadata": {},
   "outputs": [],
   "source": [
    "bmd.assign_vertexid()"
   ]
  },
  {
   "cell_type": "code",
   "execution_count": 58,
   "metadata": {},
   "outputs": [
    {
     "name": "stdout",
     "output_type": "stream",
     "text": [
      "/*--------------------------------*- C++ -*----------------------------------*\\\n",
      "| =========                 |                                                 |\n",
      "| \\\\      /  F ield         | OpenFOAM: The Open Source CFD Toolbox           |\n",
      "|  \\\\    /   O peration     | Version:  2.3.0                                 |\n",
      "|   \\\\  /    A nd           | Web:      www.OpenFOAM.org                      |\n",
      "|    \\\\/     M anipulation  |                                                 |\n",
      "\\*---------------------------------------------------------------------------*/\n",
      "FoamFile\n",
      "{\n",
      "    version     2.0;\n",
      "    format      ascii;\n",
      "    class       dictionary;\n",
      "    object      blockMeshDict;\n",
      "}\n",
      "// * * * * * * * * * * * * * * * * * * * * * * * * * * * * * * * * * * * * * //\n",
      "\n",
      "convertToMeters 1;\n",
      "\n",
      "vertices\n",
      "(\n",
      "    (                  0                  0               -1.5 )  // 0 v0-y\n",
      "    (                 20                  0               -1.5 )  // 1 v1-y\n",
      "    (                  0                  0               -1.5 )  // 2 v3-y\n",
      "    (                 20                  0               -1.5 )  // 3 v2-y\n",
      "    (                  0                  0                1.5 )  // 4 v3+y\n",
      "    (                  0                  0                1.5 )  // 5 v0+y\n",
      "    (                 20                  0                1.5 )  // 6 v1+y\n",
      "    (                 20                  0                1.5 )  // 7 v2+y\n",
      ");\n",
      "\n",
      "edges\n",
      "(\n",
      ");\n",
      "\n",
      "blocks\n",
      "(\n",
      "    hex (0 1 6 5 2 3 7 4) b0 (19 1 300) simpleGrading (1 1 1)  // b0 (v0-y v1-y v1+y v0+y v3-y v2-y v2+y v3+y)\n",
      ");\n",
      "\n",
      "boundary\n",
      "(\n",
      "    front\n",
      "    {\n",
      "        type wall;\n",
      "        faces\n",
      "        (\n",
      "            (0 1 3 2)  // f-b0-s (v0-y v1-y v2-y v3-y)\n",
      "        );\n",
      "    }\n",
      "    back\n",
      "    {\n",
      "        type wall;\n",
      "        faces\n",
      "        (\n",
      "            (6 5 4 7)  // f-b0-n (v1+y v0+y v3+y v2+y)\n",
      "        );\n",
      "    }\n",
      "    side\n",
      "    {\n",
      "        type symmetry;\n",
      "        faces\n",
      "        (\n",
      "            (0 2 4 5)  // f-b0-w (v0-y v3-y v3+y v0+y)\n",
      "        );\n",
      "    }\n",
      "    ground\n",
      "    {\n",
      "        type wall;\n",
      "        faces\n",
      "        (\n",
      "            (0 5 6 1)  // f-b0-b (v0-y v0+y v1+y v1-y)\n",
      "        );\n",
      "    }\n",
      "    top\n",
      "    {\n",
      "        type wall;\n",
      "        faces\n",
      "        (\n",
      "            (2 3 7 4)  // f-b0-t (v3-y v2-y v2+y v3+y)\n",
      "        );\n",
      "    }\n",
      "    side_east\n",
      "    {\n",
      "        type symmetry;\n",
      "        faces\n",
      "        (\n",
      "            (1 6 7 3)  // f-b0-n (v1-y v1+y v2+y v2-y)\n",
      "        );\n",
      "    }\n",
      "    side_west\n",
      "    {\n",
      "        type symmetry;\n",
      "        faces\n",
      "        (\n",
      "            (0 2 4 5)  // f-b0-w (v0-y v3-y v3+y v0+y)\n",
      "        );\n",
      "    }\n",
      ");\n",
      "\n",
      "mergePatchPairs\n",
      "(\n",
      ");\n",
      "\n",
      "// ************************************************************************* //\n",
      "\n"
     ]
    }
   ],
   "source": [
    "print(bmd.format())"
   ]
  }
 ],
 "metadata": {
  "kernelspec": {
   "display_name": "Python 3.10.6 ('cfdenv': venv)",
   "language": "python",
   "name": "python3"
  },
  "language_info": {
   "codemirror_mode": {
    "name": "ipython",
    "version": 3
   },
   "file_extension": ".py",
   "mimetype": "text/x-python",
   "name": "python",
   "nbconvert_exporter": "python",
   "pygments_lexer": "ipython3",
   "version": "3.10.6"
  },
  "orig_nbformat": 4,
  "vscode": {
   "interpreter": {
    "hash": "5475a40c06d649dbcbe091a983b527c5b027b8537e5e142c6a7b5bd2b5f61037"
   }
  }
 },
 "nbformat": 4,
 "nbformat_minor": 2
}
