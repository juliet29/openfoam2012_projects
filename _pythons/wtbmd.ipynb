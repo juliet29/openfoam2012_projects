{
 "cells": [
  {
   "cell_type": "code",
   "execution_count": 1,
   "metadata": {},
   "outputs": [],
   "source": [
    "from __future__ import unicode_literals, print_function\n",
    "\n",
    "import math\n",
    "\n",
    "from ofblockmeshdicthelper import BlockMeshDict, Vertex, SimpleGrading\n"
   ]
  },
  {
   "cell_type": "code",
   "execution_count": null,
   "metadata": {},
   "outputs": [],
   "source": [
    "# geometries\n",
    "wt_length = 20 # wt  = wind tunnel x-dir\n",
    "wt_depth = 3 # z-dir\n",
    "wt_height = 3 # y-dir\n",
    "box_size = 1"
   ]
  },
  {
   "cell_type": "code",
   "execution_count": 36,
   "metadata": {},
   "outputs": [],
   "source": [
    "\n",
    "\n",
    "# prepare ofblockmeshdicthelper.BlockMeshDict instance to\n",
    "# gather vertices, blocks, faces and boundaries.\n",
    "bmd = BlockMeshDict()\n",
    "\n",
    "# set metrics\n",
    "bmd.set_metric('m')\n",
    "\n",
    "# base vertices of wind tunnel \n",
    "basevs = [\n",
    "    Vertex(0, 0, 0, 'v0'),\n",
    "    Vertex(wt_length, 0, 0, 'v1'),\n",
    "    Vertex(wt_length,  0, wt_depth, 'v2'),\n",
    "    Vertex(0, 0, wt_depth, 'v3')]"
   ]
  },
  {
   "cell_type": "code",
   "execution_count": 37,
   "metadata": {},
   "outputs": [
    {
     "name": "stdout",
     "output_type": "stream",
     "text": [
      "v0: (0, 0, 0)\n",
      "v1: (20, 0, 0)\n",
      "v2: (20, 0, 3)\n",
      "v3: (0, 0, 3)\n"
     ]
    }
   ],
   "source": [
    "for v in basevs:\n",
    "    print(f\"{v.name}: {v.x, v.y, v.z}\")"
   ]
  },
  {
   "cell_type": "code",
   "execution_count": 38,
   "metadata": {},
   "outputs": [],
   "source": [
    "# raise up in the y direction \n",
    "for v in basevs:\n",
    "    bmd.add_vertex(v.x, wt_height, v.z, v.name+'+y')\n",
    "    bmd.add_vertex(v.x, 0, v.z, v.name+'-y')"
   ]
  },
  {
   "cell_type": "code",
   "execution_count": 39,
   "metadata": {},
   "outputs": [
    {
     "data": {
      "text/plain": [
       "{'v0+y': <ofblockmeshdicthelper.Vertex at 0x11531a860>,\n",
       " 'v0-y': <ofblockmeshdicthelper.Vertex at 0x115318eb0>,\n",
       " 'v1+y': <ofblockmeshdicthelper.Vertex at 0x11531a470>,\n",
       " 'v1-y': <ofblockmeshdicthelper.Vertex at 0x11531be50>,\n",
       " 'v2+y': <ofblockmeshdicthelper.Vertex at 0x11531ba90>,\n",
       " 'v2-y': <ofblockmeshdicthelper.Vertex at 0x115318940>,\n",
       " 'v3+y': <ofblockmeshdicthelper.Vertex at 0x11531b820>,\n",
       " 'v3-y': <ofblockmeshdicthelper.Vertex at 0x11531b3a0>}"
      ]
     },
     "execution_count": 39,
     "metadata": {},
     "output_type": "execute_result"
    }
   ],
   "source": [
    "bmd.vertices"
   ]
  },
  {
   "cell_type": "code",
   "execution_count": 40,
   "metadata": {},
   "outputs": [],
   "source": [
    "def vnamegen(x0z0, x1z0, x1z1, x0z1):\n",
    "    return (x0z0+'-y', x1z0+'-y', x1z0+'+y', x0z0+'+y',\n",
    "            x0z1+'-y', x1z1+'-y', x1z1+'+y', x0z1+'+y')"
   ]
  },
  {
   "cell_type": "code",
   "execution_count": 41,
   "metadata": {},
   "outputs": [
    {
     "data": {
      "text/plain": [
       "('v0-y', 'v1-y', 'v1+y', 'v0+y', 'v3-y', 'v2-y', 'v2+y', 'v3+y')"
      ]
     },
     "execution_count": 41,
     "metadata": {},
     "output_type": "execute_result"
    }
   ],
   "source": [
    "vnamegen('v0', 'v1', 'v2', 'v3')"
   ]
  },
  {
   "cell_type": "code",
   "execution_count": 42,
   "metadata": {},
   "outputs": [],
   "source": [
    "b0 = bmd.add_hexblock(vnamegen('v0', 'v1', 'v2', 'v3'),\n",
    "                      (50, 20, 20),\n",
    "                      'b0',\n",
    "                      grading=SimpleGrading(1,\n",
    "                                            1,\n",
    "                                            1))"
   ]
  },
  {
   "cell_type": "code",
   "execution_count": 43,
   "metadata": {},
   "outputs": [
    {
     "data": {
      "text/plain": [
       "<ofblockmeshdicthelper.Boundary at 0x115318c70>"
      ]
     },
     "execution_count": 43,
     "metadata": {},
     "output_type": "execute_result"
    }
   ],
   "source": [
    "bmd.add_boundary('wall', 'bottom', [b0.face('s')]) ## should probably be patches?\n",
    "bmd.add_boundary('wall', 'top', [b0.face('n')])\n",
    "\n",
    "bmd.add_boundary('symmetry', 'inlet', [b0.face('e')])\n",
    "bmd.add_boundary('symmetry', 'outlet', [b0.face('w')])\n",
    "\n",
    "bmd.add_boundary('wall', 'side01', [b0.face('b')])\n",
    "bmd.add_boundary('wall', 'side02', [b0.face('t')])\n"
   ]
  },
  {
   "cell_type": "code",
   "execution_count": 44,
   "metadata": {},
   "outputs": [
    {
     "name": "stdout",
     "output_type": "stream",
     "text": [
      "['bottom', 'top', 'inlet', 'outlet', 'side01', 'side02']\n"
     ]
    }
   ],
   "source": [
    "print([v.name for v in bmd.boundaries.values()])"
   ]
  },
  {
   "cell_type": "code",
   "execution_count": 45,
   "metadata": {},
   "outputs": [],
   "source": [
    "bmd.assign_vertexid()"
   ]
  },
  {
   "cell_type": "code",
   "execution_count": 46,
   "metadata": {},
   "outputs": [
    {
     "name": "stdout",
     "output_type": "stream",
     "text": [
      "/*--------------------------------*- C++ -*----------------------------------*\\\n",
      "| =========                 |                                                 |\n",
      "| \\\\      /  F ield         | OpenFOAM: The Open Source CFD Toolbox           |\n",
      "|  \\\\    /   O peration     | Version:  2.3.0                                 |\n",
      "|   \\\\  /    A nd           | Web:      www.OpenFOAM.org                      |\n",
      "|    \\\\/     M anipulation  |                                                 |\n",
      "\\*---------------------------------------------------------------------------*/\n",
      "FoamFile\n",
      "{\n",
      "    version     2.0;\n",
      "    format      ascii;\n",
      "    class       dictionary;\n",
      "    object      blockMeshDict;\n",
      "}\n",
      "// * * * * * * * * * * * * * * * * * * * * * * * * * * * * * * * * * * * * * //\n",
      "\n",
      "convertToMeters 1;\n",
      "\n",
      "vertices\n",
      "(\n",
      "    (                  0                  0                  0 )  // 0 v0-y\n",
      "    (                 20                  0                  0 )  // 1 v1-y\n",
      "    (                 20                  3                  0 )  // 2 v1+y\n",
      "    (                  0                  3                  0 )  // 3 v0+y\n",
      "    (                  0                  0                  3 )  // 4 v3-y\n",
      "    (                 20                  0                  3 )  // 5 v2-y\n",
      "    (                  0                  3                  3 )  // 6 v3+y\n",
      "    (                 20                  3                  3 )  // 7 v2+y\n",
      ");\n",
      "\n",
      "edges\n",
      "(\n",
      ");\n",
      "\n",
      "blocks\n",
      "(\n",
      "    hex (0 1 2 3 4 5 7 6) b0 (50 20 20) simpleGrading (1 1 1)  // b0 (v0-y v1-y v1+y v0+y v3-y v2-y v2+y v3+y)\n",
      ");\n",
      "\n",
      "boundary\n",
      "(\n",
      "    bottom\n",
      "    {\n",
      "        type wall;\n",
      "        faces\n",
      "        (\n",
      "            (0 1 5 4)  // f-b0-s (v0-y v1-y v2-y v3-y)\n",
      "        );\n",
      "    }\n",
      "    top\n",
      "    {\n",
      "        type wall;\n",
      "        faces\n",
      "        (\n",
      "            (2 3 6 7)  // f-b0-n (v1+y v0+y v3+y v2+y)\n",
      "        );\n",
      "    }\n",
      "    inlet\n",
      "    {\n",
      "        type symmetry;\n",
      "        faces\n",
      "        (\n",
      "            (1 2 7 5)  // f-b0-n (v1-y v1+y v2+y v2-y)\n",
      "        );\n",
      "    }\n",
      "    outlet\n",
      "    {\n",
      "        type symmetry;\n",
      "        faces\n",
      "        (\n",
      "            (0 4 6 3)  // f-b0-w (v0-y v3-y v3+y v0+y)\n",
      "        );\n",
      "    }\n",
      "    side01\n",
      "    {\n",
      "        type wall;\n",
      "        faces\n",
      "        (\n",
      "            (0 3 2 1)  // f-b0-b (v0-y v0+y v1+y v1-y)\n",
      "        );\n",
      "    }\n",
      "    side02\n",
      "    {\n",
      "        type wall;\n",
      "        faces\n",
      "        (\n",
      "            (4 5 7 6)  // f-b0-t (v3-y v2-y v2+y v3+y)\n",
      "        );\n",
      "    }\n",
      ");\n",
      "\n",
      "mergePatchPairs\n",
      "(\n",
      ");\n",
      "\n",
      "// ************************************************************************* //\n",
      "\n"
     ]
    }
   ],
   "source": [
    "print(bmd.format())"
   ]
  }
 ],
 "metadata": {
  "kernelspec": {
   "display_name": "Python 3.10.6 ('cfdenv': venv)",
   "language": "python",
   "name": "python3"
  },
  "language_info": {
   "codemirror_mode": {
    "name": "ipython",
    "version": 3
   },
   "file_extension": ".py",
   "mimetype": "text/x-python",
   "name": "python",
   "nbconvert_exporter": "python",
   "pygments_lexer": "ipython3",
   "version": "3.10.6"
  },
  "orig_nbformat": 4,
  "vscode": {
   "interpreter": {
    "hash": "5475a40c06d649dbcbe091a983b527c5b027b8537e5e142c6a7b5bd2b5f61037"
   }
  }
 },
 "nbformat": 4,
 "nbformat_minor": 2
}
